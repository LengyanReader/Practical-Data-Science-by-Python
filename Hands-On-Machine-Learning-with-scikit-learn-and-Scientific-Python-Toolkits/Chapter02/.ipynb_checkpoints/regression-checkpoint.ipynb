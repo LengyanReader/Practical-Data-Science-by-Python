{
 "cells": [
  {
   "cell_type": "markdown",
   "metadata": {},
   "source": [
    "# Decision Trees: Regression"
   ]
  },
  {
   "cell_type": "code",
   "execution_count": 1,
   "metadata": {},
   "outputs": [],
   "source": [
    "import numpy as np\n",
    "import pandas as pd\n",
    "from matplotlib import pyplot as plt"
   ]
  },
  {
   "cell_type": "markdown",
   "metadata": {},
   "source": [
    "## Creating Height Dataset"
   ]
  },
  {
   "cell_type": "code",
   "execution_count": 2,
   "metadata": {},
   "outputs": [],
   "source": [
    "import numpy as np\n",
    "import pandas as pd\n",
    "\n",
    "n = 200\n",
    "\n",
    "height_pop1_f = np.random.normal(loc=155, scale=4, size=n)\n",
    "height_pop1_m = np.random.normal(loc=175, scale=5, size=n)\n",
    "height_pop2_f = np.random.normal(loc=165, scale=15, size=n)\n",
    "height_pop2_m = np.random.normal(loc=185, scale=12, size=n)\n",
    "\n",
    "height_f = np.concatenate([height_pop1_f, height_pop2_f])\n",
    "height_m = np.concatenate([height_pop1_m, height_pop2_m])\n",
    "\n",
    "df_height = pd.DataFrame(\n",
    "    {\n",
    "        'Gender': [1 for i in range(height_f.size)] + [2 for i in range(height_m.size)],\n",
    "        'Height': np.concatenate((height_f, height_m))\n",
    "    }\n",
    ")\n",
    "\n",
    "# df_height['Gender (text)'] = df_height['Gender'].apply(lambda g: {1: 'F', 2: 'M'}.get(g, 'N/A'))"
   ]
  },
  {
   "cell_type": "code",
   "execution_count": 3,
   "metadata": {},
   "outputs": [
    {
     "data": {
      "text/html": [
       "<div>\n",
       "<style scoped>\n",
       "    .dataframe tbody tr th:only-of-type {\n",
       "        vertical-align: middle;\n",
       "    }\n",
       "\n",
       "    .dataframe tbody tr th {\n",
       "        vertical-align: top;\n",
       "    }\n",
       "\n",
       "    .dataframe thead th {\n",
       "        text-align: right;\n",
       "    }\n",
       "</style>\n",
       "<table border=\"1\" class=\"dataframe\">\n",
       "  <thead>\n",
       "    <tr style=\"text-align: right;\">\n",
       "      <th></th>\n",
       "      <th>Gender</th>\n",
       "      <th>Height</th>\n",
       "    </tr>\n",
       "  </thead>\n",
       "  <tbody>\n",
       "    <tr>\n",
       "      <th>268</th>\n",
       "      <td>1</td>\n",
       "      <td>177.520399</td>\n",
       "    </tr>\n",
       "    <tr>\n",
       "      <th>794</th>\n",
       "      <td>2</td>\n",
       "      <td>185.860214</td>\n",
       "    </tr>\n",
       "    <tr>\n",
       "      <th>386</th>\n",
       "      <td>1</td>\n",
       "      <td>149.197373</td>\n",
       "    </tr>\n",
       "  </tbody>\n",
       "</table>\n",
       "</div>"
      ],
      "text/plain": [
       "     Gender      Height\n",
       "268       1  177.520399\n",
       "794       2  185.860214\n",
       "386       1  149.197373"
      ]
     },
     "execution_count": 3,
     "metadata": {},
     "output_type": "execute_result"
    }
   ],
   "source": [
    "df_height.sample(3)"
   ]
  },
  {
   "cell_type": "code",
   "execution_count": 4,
   "metadata": {},
   "outputs": [
    {
     "ename": "NameError",
     "evalue": "name 'plt' is not defined",
     "output_type": "error",
     "traceback": [
      "\u001b[1;31m---------------------------------------------------------------------------\u001b[0m",
      "\u001b[1;31mNameError\u001b[0m                                 Traceback (most recent call last)",
      "\u001b[1;32m<ipython-input-4-6ebadfa0f34c>\u001b[0m in \u001b[0;36m<module>\u001b[1;34m\u001b[0m\n\u001b[1;32m----> 1\u001b[1;33m \u001b[0mfig\u001b[0m\u001b[1;33m,\u001b[0m \u001b[0max\u001b[0m \u001b[1;33m=\u001b[0m \u001b[0mplt\u001b[0m\u001b[1;33m.\u001b[0m\u001b[0msubplots\u001b[0m\u001b[1;33m(\u001b[0m\u001b[1;36m1\u001b[0m\u001b[1;33m,\u001b[0m \u001b[1;36m1\u001b[0m\u001b[1;33m,\u001b[0m \u001b[0mfigsize\u001b[0m\u001b[1;33m=\u001b[0m\u001b[1;33m(\u001b[0m\u001b[1;36m10\u001b[0m\u001b[1;33m,\u001b[0m \u001b[1;36m5\u001b[0m\u001b[1;33m)\u001b[0m\u001b[1;33m)\u001b[0m\u001b[1;33m\u001b[0m\u001b[1;33m\u001b[0m\u001b[0m\n\u001b[0m\u001b[0;32m      2\u001b[0m \u001b[1;33m\u001b[0m\u001b[0m\n\u001b[0;32m      3\u001b[0m df_height[df_height['Gender'] == 1]['Height'].plot(\n\u001b[0;32m      4\u001b[0m     \u001b[0mlabel\u001b[0m\u001b[1;33m=\u001b[0m\u001b[1;34m'Female'\u001b[0m\u001b[1;33m,\u001b[0m \u001b[0mkind\u001b[0m\u001b[1;33m=\u001b[0m\u001b[1;34m'hist'\u001b[0m\u001b[1;33m,\u001b[0m\u001b[1;33m\u001b[0m\u001b[1;33m\u001b[0m\u001b[0m\n\u001b[0;32m      5\u001b[0m     \u001b[0mbins\u001b[0m\u001b[1;33m=\u001b[0m\u001b[1;36m10\u001b[0m\u001b[1;33m,\u001b[0m \u001b[0malpha\u001b[0m\u001b[1;33m=\u001b[0m\u001b[1;36m0.7\u001b[0m\u001b[1;33m,\u001b[0m \u001b[0max\u001b[0m\u001b[1;33m=\u001b[0m\u001b[0max\u001b[0m\u001b[1;33m\u001b[0m\u001b[1;33m\u001b[0m\u001b[0m\n",
      "\u001b[1;31mNameError\u001b[0m: name 'plt' is not defined"
     ]
    }
   ],
   "source": [
    "fig, ax = plt.subplots(1, 1, figsize=(10, 5))\n",
    "\n",
    "df_height[df_height['Gender'] == 1]['Height'].plot(\n",
    "    label='Female', kind='hist', \n",
    "    bins=10, alpha=0.7, ax=ax\n",
    ")\n",
    "df_height[df_height['Gender'] == 2]['Height'].plot(\n",
    "    label='Male', kind='hist', \n",
    "    bins=10, alpha=0.7, ax=ax\n",
    ")\n",
    "\n",
    "# ax.set_xlim(140, 200)\n",
    "ax.legend()\n",
    "ax.set_title('Height Distribution')\n",
    "ax.set_xlabel('Height (in centimeters)')\n",
    "\n",
    "#fig.show()"
   ]
  },
  {
   "cell_type": "code",
   "execution_count": 6,
   "metadata": {},
   "outputs": [
    {
     "data": {
      "text/html": [
       "<div>\n",
       "<style scoped>\n",
       "    .dataframe tbody tr th:only-of-type {\n",
       "        vertical-align: middle;\n",
       "    }\n",
       "\n",
       "    .dataframe tbody tr th {\n",
       "        vertical-align: top;\n",
       "    }\n",
       "\n",
       "    .dataframe thead tr th {\n",
       "        text-align: left;\n",
       "    }\n",
       "\n",
       "    .dataframe thead tr:last-of-type th {\n",
       "        text-align: right;\n",
       "    }\n",
       "</style>\n",
       "<table border=\"1\" class=\"dataframe\">\n",
       "  <thead>\n",
       "    <tr>\n",
       "      <th></th>\n",
       "      <th colspan=\"2\" halign=\"left\">Height</th>\n",
       "    </tr>\n",
       "    <tr>\n",
       "      <th></th>\n",
       "      <th>mean</th>\n",
       "      <th>median</th>\n",
       "    </tr>\n",
       "    <tr>\n",
       "      <th>Gender</th>\n",
       "      <th></th>\n",
       "      <th></th>\n",
       "    </tr>\n",
       "  </thead>\n",
       "  <tbody>\n",
       "    <tr>\n",
       "      <th>1</th>\n",
       "      <td>160.9</td>\n",
       "      <td>157.0</td>\n",
       "    </tr>\n",
       "    <tr>\n",
       "      <th>2</th>\n",
       "      <td>179.4</td>\n",
       "      <td>177.3</td>\n",
       "    </tr>\n",
       "  </tbody>\n",
       "</table>\n",
       "</div>"
      ],
      "text/plain": [
       "       Height       \n",
       "         mean median\n",
       "Gender              \n",
       "1       160.9  157.0\n",
       "2       179.4  177.3"
      ]
     },
     "execution_count": 6,
     "metadata": {},
     "output_type": "execute_result"
    }
   ],
   "source": [
    "# df_height['Gender (text)'] = df_height['Gender'].apply(lambda g: {1: 'F', 2: 'M'}.get(g, 'N/A'))\n",
    "\n",
    "df_height.groupby('Gender')[['Height']].agg([np.mean, np.median]).round(1)"
   ]
  },
  {
   "cell_type": "markdown",
   "metadata": {},
   "source": [
    "##  Splitting Data then applying the Regressor"
   ]
  },
  {
   "cell_type": "code",
   "execution_count": 7,
   "metadata": {},
   "outputs": [
    {
     "data": {
      "text/plain": [
       "DecisionTreeRegressor(ccp_alpha=0.0, criterion='mse', max_depth=None,\n",
       "                      max_features=None, max_leaf_nodes=None,\n",
       "                      min_impurity_decrease=0.0, min_impurity_split=None,\n",
       "                      min_samples_leaf=1, min_samples_split=2,\n",
       "                      min_weight_fraction_leaf=0.0, presort='deprecated',\n",
       "                      random_state=None, splitter='best')"
      ]
     },
     "execution_count": 7,
     "metadata": {},
     "output_type": "execute_result"
    }
   ],
   "source": [
    "from sklearn.model_selection import train_test_split\n",
    "\n",
    "df_train, df_test = train_test_split(df_height, test_size=0.3, random_state=22)\n",
    "\n",
    "x_train = df_train[['Gender']]\n",
    "x_test  = df_test[['Gender']]\n",
    "\n",
    "y_train = df_train['Height']\n",
    "y_test  = df_test['Height']\n",
    "\n",
    "from sklearn.tree import DecisionTreeRegressor\n",
    "\n",
    "clf = DecisionTreeRegressor()\n",
    "\n",
    "clf.fit(x_train, y_train)\n",
    "\n"
   ]
  },
  {
   "cell_type": "code",
   "execution_count": 8,
   "metadata": {},
   "outputs": [
    {
     "name": "stdout",
     "output_type": "stream",
     "text": [
      "\n",
      "criterion=mse:\n",
      "\n",
      "|--- Gender <= 1.5\n",
      "|   |--- value: [160.8]\n",
      "|--- Gender >  1.5\n",
      "|   |--- value: [179.7]\n",
      "\n",
      "MSE: 131.8\n",
      "MAE: 8.8\n",
      "\n",
      "criterion=mae:\n",
      "\n",
      "|--- Gender <= 1.5\n",
      "|   |--- value: [157.2]\n",
      "|--- Gender >  1.5\n",
      "|   |--- value: [177.7]\n",
      "\n",
      "MSE: 140.3\n",
      "MAE: 8.1\n"
     ]
    }
   ],
   "source": [
    "from sklearn.tree import export_text\n",
    "from sklearn.metrics import mean_squared_error, mean_absolute_error\n",
    "\n",
    "\n",
    "for criterion in ['mse', 'mae']:\n",
    "    rgrsr = DecisionTreeRegressor(criterion=criterion)\n",
    "    rgrsr.fit(x_train, y_train)\n",
    "\n",
    "    print(f'\\ncriterion={criterion}:\\n')\n",
    "    print(export_text(rgrsr, feature_names=['Gender'], spacing=3, decimals=1))\n",
    "    \n",
    "    y_test_pred = rgrsr.predict(x_test)\n",
    "    \n",
    "    print('MSE:', round(mean_squared_error(y_test, y_test_pred), 1))\n",
    "    print('MAE:', round(mean_absolute_error(y_test, y_test_pred), 1))"
   ]
  },
  {
   "cell_type": "code",
   "execution_count": 9,
   "metadata": {},
   "outputs": [
    {
     "data": {
      "text/plain": [
       "230    189.715860\n",
       "140    149.980960\n",
       "172    150.570729\n",
       "782    193.298542\n",
       "406    172.337001\n",
       "          ...    \n",
       "491    172.981764\n",
       "502    180.858260\n",
       "358    167.625938\n",
       "356    157.478166\n",
       "132    154.342254\n",
       "Name: Height, Length: 560, dtype: float64"
      ]
     },
     "execution_count": 9,
     "metadata": {},
     "output_type": "execute_result"
    }
   ],
   "source": [
    "y_train"
   ]
  },
  {
   "cell_type": "code",
   "execution_count": 10,
   "metadata": {},
   "outputs": [
    {
     "name": "stdout",
     "output_type": "stream",
     "text": [
      "\n",
      "Emphasis on below 150:\n",
      "\n",
      "|--- Gender <= 1.5\n",
      "|   |--- value: [152.7]\n",
      "|--- Gender >  1.5\n",
      "|   |--- value: [179.7]\n",
      "\n",
      "MSE: 170.5\n",
      "MAE: 9.0\n",
      "\n",
      "Emphasis on above 150:\n",
      "\n",
      "|--- Gender <= 1.5\n",
      "|   |--- value: [162.6]\n",
      "|--- Gender >  1.5\n",
      "|   |--- value: [179.7]\n",
      "\n",
      "MSE: 132.7\n",
      "MAE: 9.1\n"
     ]
    }
   ],
   "source": [
    "from sklearn.tree import export_text\n",
    "from sklearn.metrics import mean_squared_error, mean_absolute_error\n",
    "\n",
    "\n",
    "for who_gets_more_weight in ['below 150', 'above 150']:\n",
    "    rgrsr = DecisionTreeRegressor(criterion='mse')\n",
    "    if who_gets_more_weight == 'below 150':\n",
    "        sample_weight = y_train.apply(lambda h: 10 if h <= 150 else 1)\n",
    "    else:\n",
    "        sample_weight = y_train.apply(lambda h: 10 if h > 150 else 1)\n",
    "    rgrsr.fit(x_train, y_train, sample_weight=sample_weight)\n",
    "\n",
    "    print(f'\\nEmphasis on {who_gets_more_weight}:\\n')\n",
    "    print(export_text(rgrsr, feature_names=['Gender'], spacing=3, decimals=1))\n",
    "    \n",
    "    y_test_pred = rgrsr.predict(x_test)\n",
    "    \n",
    "    print('MSE:', round(mean_squared_error(y_test, y_test_pred), 1))\n",
    "    print('MAE:', round(mean_absolute_error(y_test, y_test_pred), 1))"
   ]
  },
  {
   "cell_type": "code",
   "execution_count": null,
   "metadata": {},
   "outputs": [],
   "source": []
  }
 ],
 "metadata": {
  "kernelspec": {
   "display_name": "Python 3",
   "language": "python",
   "name": "python3"
  },
  "language_info": {
   "codemirror_mode": {
    "name": "ipython",
    "version": 3
   },
   "file_extension": ".py",
   "mimetype": "text/x-python",
   "name": "python",
   "nbconvert_exporter": "python",
   "pygments_lexer": "ipython3",
   "version": "3.8.5"
  }
 },
 "nbformat": 4,
 "nbformat_minor": 2
}
