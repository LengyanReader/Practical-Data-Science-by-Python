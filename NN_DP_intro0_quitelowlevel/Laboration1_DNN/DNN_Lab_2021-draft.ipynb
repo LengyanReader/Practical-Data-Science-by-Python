{
 "cells": [
  {
   "cell_type": "markdown",
   "metadata": {},
   "source": [
    "# Deep Neural Networks Laboration\n",
    "\n",
    "Data used in this laboration are from the Kitsune Network Attack Dataset, https://archive.ics.uci.edu/ml/datasets/Kitsune+Network+Attack+Dataset . We will focus on the 'Mirai' part of the dataset. Your task is to make a DNN that can classify if each attack is benign or malicious. The dataset has 116 covariates, but to make it a bit more difficult we will remove the first 24 covariates.\n",
    "\n",
    "You need to answer all questions in this notebook."
   ]
  },
  {
   "cell_type": "markdown",
   "metadata": {},
   "source": [
    "# Part 1: Get the data\n",
    "\n",
    "Skip this part if you load stored numpy arrays (Mirai*.npy) (which is recommended)\n",
    "\n",
    "Use `wget` in the terminal of your cloud machine (in the same directory as where you have saved this notebook) to download the data, i.e.\n",
    "\n",
    "wget https://archive.ics.uci.edu/ml/machine-learning-databases/00516/mirai/Mirai_dataset.csv.gz\n",
    "\n",
    "wget https://archive.ics.uci.edu/ml/machine-learning-databases/00516/mirai/Mirai_labels.csv.gz\n",
    "\n",
    "Then unpack the files using `gunzip` in the terminal, i.e.\n",
    "\n",
    "gunzip Mirai_dataset.csv.gz\n",
    "\n",
    "gunzip Mirai_labels.csv.gz"
   ]
  },
  {
   "cell_type": "markdown",
   "metadata": {},
   "source": [
    "# Part 2: Get a graphics card\n",
    "\n",
    "Skip this part if you run on the CPU\n",
    "\n",
    "Lets make sure that our script can see the graphics card that will be used. The graphics cards will perform all the time consuming calculations in every training iteration."
   ]
  },
  {
   "cell_type": "code",
   "execution_count": 113,
   "metadata": {},
   "outputs": [],
   "source": [
    "import os\n",
    "import warnings\n",
    "\n",
    "# Ignore FutureWarning from numpy\n",
    "warnings.simplefilter(action='ignore', category=FutureWarning)\n",
    "\n",
    "import keras.backend as K\n",
    "import tensorflow as tf\n",
    "\n",
    "os.environ[\"CUDA_DEVICE_ORDER\"]=\"PCI_BUS_ID\";\n",
    " \n",
    "# The GPU id to use, usually either \"0\" or \"1\";\n",
    "os.environ[\"CUDA_VISIBLE_DEVICES\"]=\"0\";\n",
    "\n",
    "# Allow growth of GPU memory, otherwise it will always look like all the memory is being used\n",
    "physical_devices = tf.config.experimental.list_physical_devices('GPU')\n",
    "#tf.config.experimental.set_memory_growth(physical_devices[0], True) "
   ]
  },
  {
   "cell_type": "code",
   "execution_count": null,
   "metadata": {},
   "outputs": [],
   "source": []
  },
  {
   "cell_type": "markdown",
   "metadata": {},
   "source": [
    "# Part 3: Hardware\n",
    "\n",
    "Skip questions 1, 2, 3, 5, 6 if you use your own computer.\n",
    "\n",
    "In deep learning, the computer hardware is very important. You should always know what kind of hardware you are working on.\n",
    "\n",
    "Question 1: What graphics card is available in the cloud machine? Run 'nvidia-smi' in the terminal. \n",
    "\n",
    "Question 2: Google the name of the graphics card, how many CUDA cores does it have?\n",
    "\n",
    "Question 3: How much memory does the graphics card have?\n",
    "\n",
    "Question 4: What is stored in the GPU memory while training a DNN ?\n",
    "\n",
    "Question 5: What CPU is available in the cloud machine? How many cores does it have? Run 'lscpu' in the terminal.\n",
    "\n",
    "Question 6: How much CPU memory (RAM) is available in the cloud machine? Run 'free -g' in the terminal."
   ]
  },
  {
   "cell_type": "markdown",
   "metadata": {},
   "source": [
    "# Part 4: Load the data\n",
    "\n",
    "To make this step easier, directly load the data from saved numpy arrays (.npy) (recommended)\n",
    "\n",
    "\n",
    "Load the dataset from the csv files, it will take some time since it is almost 1.4 GB. \n",
    "\n",
    "We will use the function `genfromtxt` to load the data.\n",
    "\n",
    "https://docs.scipy.org/doc/numpy/reference/generated/numpy.genfromtxt.html\n",
    "\n",
    "Load the data from csv files the first time, then save the data as numpy files for faster loading the next time.\n"
   ]
  },
  {
   "cell_type": "code",
   "execution_count": 123,
   "metadata": {
    "scrolled": true
   },
   "outputs": [
    {
     "name": "stdout",
     "output_type": "stream",
     "text": [
      "The covariates have size (764137, 92).\n",
      "The labels have size (764137,).\n",
      "the number of examples of each class:{0.0: 121621, 1.0: 642516}\n"
     ]
    }
   ],
   "source": [
    "from numpy import genfromtxt\n",
    "import numpy as np\n",
    "\n",
    "# Load data from numpy arrays\n",
    "X = np.load('Mirai_data.npy')\n",
    "Y = np.load('Mirai_labels.npy')\n",
    "\n",
    "\n",
    "\n",
    "# Remove the first 24 covariates (columns)\n",
    "X=X[:,24:]\n",
    "\n",
    "print('The covariates have size {}.'.format(X.shape))\n",
    "print('The labels have size {}.'.format(Y.shape))\n",
    "\n",
    "# Print the number of examples of each class\n",
    "label=np.unique(Y)\n",
    "#print(label)\n",
    "dic_num_cls={}\n",
    "for i in label:\n",
    "    dic_num_cls[i]=np.count_nonzero(Y==i)\n",
    "print('the number of examples of each class:{}'.format(dic_num_cls) )    "
   ]
  },
  {
   "cell_type": "markdown",
   "metadata": {},
   "source": [
    "# Part 5: How good is a naive classifier?\n",
    "\n",
    "Question 7: Given the number of examples from each class, how high classification performance can a naive classifier obtain? The naive classifier will assume that all examples belong to one class. Note: you do not need to make a naive classifier, this is a theoretical question, just to understand how good performance we can obtain by guessing that all examples belong to one class."
   ]
  },
  {
   "cell_type": "code",
   "execution_count": 3,
   "metadata": {},
   "outputs": [
    {
     "data": {
      "text/plain": [
       "0"
      ]
     },
     "execution_count": 3,
     "metadata": {},
     "output_type": "execute_result"
    }
   ],
   "source": [
    "# It is common to have NaNs in the data, lets check for it. Hint: np.isnan()\n",
    "np.unique(np.isnan(X))\n",
    "\n",
    "# Print the number of NaNs (not a number) in the labels\n",
    "np.where(np.isnan(X).any(axis=1)==True)[0]\n",
    "len(np.where(np.isnan(X).any(axis=1)==True)[0])\n",
    "\n",
    "# Print the number of NaNs in the covariates\n",
    "\n",
    "np.count_nonzero(~np.isnan(X)) # 764137*92\n",
    "np.count_nonzero(np.isnan(X))"
   ]
  },
  {
   "cell_type": "markdown",
   "metadata": {},
   "source": [
    "# Part 6: Preprocessing\n",
    "\n",
    "Lets do some simple preprocessing"
   ]
  },
  {
   "cell_type": "code",
   "execution_count": 4,
   "metadata": {},
   "outputs": [
    {
     "name": "stdout",
     "output_type": "stream",
     "text": [
      "float64\n",
      "int32\n",
      "[-3.19451533e-18 -6.32970181e-14  1.19926356e-13  4.56743018e-15\n",
      "  4.10210037e-14  1.46130975e-13  5.85246484e-16 -1.69734859e-14\n",
      " -3.36915700e-13  1.28688437e-12 -2.69360995e-12 -1.10733213e-13\n",
      " -1.22392702e-13 -1.70649630e-13 -1.02461166e-14  2.50701280e-12\n",
      "  1.47553162e-12  1.08446837e-12 -1.04981959e-13  6.83458762e-14\n",
      " -1.03373555e-13  5.98825773e-14 -1.02025960e-12 -1.68983055e-12\n",
      " -1.79101143e-12 -1.31828514e-13  4.42580403e-13  6.14635580e-13\n",
      "  5.78048199e-14 -4.92623328e-13 -2.54513072e-12  1.86544900e-13\n",
      " -1.53444593e-13  1.68079591e-12  9.30041709e-13  1.50738177e-13\n",
      " -1.15688852e-12 -3.62610361e-13 -1.71390937e-12 -2.09264067e-13\n",
      "  1.07161976e-12 -1.45236885e-12 -1.69724579e-14 -1.64918984e-16\n",
      " -5.13444996e-14 -1.02171349e-14 -1.74685907e-15  1.34264921e-13\n",
      "  5.98801969e-14  1.48745574e-17 -4.25442340e-13  5.78079594e-14\n",
      "  1.25638129e-15  1.69449684e-13  1.50725881e-13  2.14439542e-14\n",
      "  3.65457183e-14  1.17260451e-13 -8.82752870e-13 -6.34816648e-13\n",
      " -1.62109649e-12  2.63270303e-13 -7.57215123e-15 -2.89395002e-14\n",
      " -3.90180996e-13 -1.53167085e-12 -9.57913621e-13  2.47411065e-13\n",
      "  2.44200541e-13 -6.73050928e-15  1.07502596e-13  2.58222203e-13\n",
      " -1.87714601e-13 -1.19882476e-12 -2.17154862e-12  5.48444735e-14\n",
      "  5.46183481e-15  3.71315442e-14  1.47576646e-13 -1.62639245e-12\n",
      " -1.23986972e-13 -1.71744315e-12  5.29956657e-13 -3.21442452e-14\n",
      " -4.59767392e-14  3.56347870e-13 -1.48544246e-12 -1.26642728e-13\n",
      "  1.52633871e-13  9.58048710e-14  4.34603426e-14 -4.07615740e-14]\n",
      "[1. 1. 1. 1. 1. 1. 1. 1. 1. 1. 1. 1. 1. 1. 1. 1. 1. 1. 1. 1. 1. 1. 1. 1.\n",
      " 1. 1. 1. 1. 1. 1. 1. 1. 1. 1. 1. 1. 1. 1. 1. 1. 1. 1. 1. 1. 1. 1. 1. 1.\n",
      " 1. 1. 1. 1. 1. 1. 1. 1. 1. 1. 1. 1. 1. 1. 1. 1. 1. 1. 1. 1. 1. 1. 1. 1.\n",
      " 1. 1. 1. 1. 1. 1. 1. 1. 1. 1. 1. 1. 1. 1. 1. 1. 1. 1. 1. 1.]\n"
     ]
    }
   ],
   "source": [
    "# Convert covariates to floats\n",
    "X = X.astype('float64') \n",
    "print(X.dtype)\n",
    "# Convert labels to integers\n",
    "Y = Y.astype('int')\n",
    "print(Y.dtype)\n",
    "\n",
    "# Remove mean of each covariate (column)\n",
    "col_means = np.mean(X, axis=0)\n",
    "col_means.shape\n",
    "#col_means\n",
    "len_col=X.shape[1]\n",
    "for i in range(len_col):\n",
    "    X[:,i]=X[:,i]-col_means[i]\n",
    "    \n",
    "# Divide each covariate (column) by its standard deviation\n",
    "col_std = np.std(X, axis=0)\n",
    "for i in range(len_col):\n",
    "    X[:,i]=X[:,i]/col_std[i]\n",
    "# Check that mean is 0 and standard deviation is 1 for all covariates, by printing mean and std\n",
    "col_means = np.mean(X, axis=0)\n",
    "col_std = np.std(X, axis=0)\n",
    "print(col_means)\n",
    "print(col_std)"
   ]
  },
  {
   "cell_type": "markdown",
   "metadata": {},
   "source": [
    "# Part 7: Split the dataset\n",
    "\n",
    "Use the first 70% of the dataset for training, leave the other 30% for validation and test, call the variables\n",
    "\n",
    "Xtrain (70%)\n",
    "\n",
    "Xtemp  (30%)\n",
    "\n",
    "Ytrain (70%)\n",
    "\n",
    "Ytemp  (30%)\n",
    "\n",
    "We use a function from scikit learn.\n",
    "https://scikit-learn.org/stable/modules/generated/sklearn.model_selection.train_test_split.html\n"
   ]
  },
  {
   "cell_type": "code",
   "execution_count": null,
   "metadata": {},
   "outputs": [],
   "source": [
    "# np.random.seed(42)\n",
    "# Xrow = np.arange(X.shape[0])\n",
    "# np.random.shuffle(Xrow)\n",
    "# len_pct30=np.ceil(X.shape[0]*0.3).astype('int')\n",
    "# Xtrain=X[:len_pct30,]\n",
    "# Ytrain=Y[:len_pct30,]\n",
    "# Xtemp=X[len_pct30:,]\n",
    "# Ytemp=Y[len_pct30:,]\n",
    "#from sklearn.model_selection import train_test_split"
   ]
  },
  {
   "cell_type": "code",
   "execution_count": 5,
   "metadata": {},
   "outputs": [
    {
     "name": "stdout",
     "output_type": "stream",
     "text": [
      "Xtrain has size (534895, 92).\n",
      "Ytrain has size (534895,).\n",
      "Xtemp has size (229242, 92).\n",
      "Ytemp has size (229242,).\n",
      "85213\n",
      "449682\n",
      "36408\n",
      "192834\n"
     ]
    }
   ],
   "source": [
    "from sklearn.model_selection import train_test_split\n",
    "\n",
    "# Your code\n",
    "Xtrain, Xtemp, Ytrain, Ytemp = train_test_split( X, Y, test_size=0.30, random_state=12345)\n",
    "\n",
    "print('Xtrain has size {}.'.format(Xtrain.shape))\n",
    "print('Ytrain has size {}.'.format(Ytrain.shape))\n",
    "\n",
    "\n",
    "print('Xtemp has size {}.'.format(Xtemp.shape))\n",
    "print('Ytemp has size {}.'.format(Ytemp.shape))\n",
    "\n",
    "# Print the number of examples of each class, for the training data and the remaining 30%\n",
    "print(np.count_nonzero(Ytrain==0))\n",
    "print(np.count_nonzero(Ytrain==1))\n",
    "print(np.count_nonzero(Ytemp==0))\n",
    "print(np.count_nonzero(Ytemp==1))\n"
   ]
  },
  {
   "cell_type": "markdown",
   "metadata": {},
   "source": [
    "#  Part 8: Split non-training data data into validation and test\n",
    "Now split your non-training data (Xtemp, Ytemp) into 50% validation (Xval, Yval) and 50% testing (Xtest, Ytest), we use a function from scikit learn. \n",
    "\n",
    "https://scikit-learn.org/stable/modules/generated/sklearn.model_selection.train_test_split.html\n",
    "\n",
    "Do all variables (Xtrain,Ytrain), (Xval,Yval), (Xtest,Ytest) have the shape that you expect?"
   ]
  },
  {
   "cell_type": "code",
   "execution_count": 6,
   "metadata": {},
   "outputs": [
    {
     "name": "stdout",
     "output_type": "stream",
     "text": [
      "The validation and test data have size (114621, 92), (114621, 92), (114621,) and (114621,)\n"
     ]
    }
   ],
   "source": [
    "from sklearn.model_selection import train_test_split\n",
    "\n",
    "Xval, Xtest, Yval, Ytest = train_test_split( Xtemp, Ytemp, test_size=0.5, random_state=1234567)\n",
    "\n",
    "print('The validation and test data have size {}, {}, {} and {}'.format(Xval.shape, Xtest.shape, Yval.shape, Ytest.shape))"
   ]
  },
  {
   "cell_type": "markdown",
   "metadata": {},
   "source": [
    "# Part 9: DNN classification\n",
    "\n",
    "Finish this code to create a first version of the classifier using a DNN. Start with a simple network with 2 dense layers (with 20 nodes each), using sigmoid activation functions. The final dense layer should have a single node and a sigmoid activation function. We start with the SGD optimizer.\n",
    "\n",
    "For different parts of this notebook you need to go back here, add more things, and re-run this cell to re-define the build function.\n",
    "\n",
    "Relevant functions are\n",
    "\n",
    "`model.add()`, adds a layer to the network\n",
    "\n",
    "`Dense()`, a dense network layer\n",
    "\n",
    "`model.compile()`, compile the model, add \" metrics=['accuracy'] \" to print the classification accuracy during the training\n",
    "\n",
    "See https://keras.io/layers/core/ for information on how the `Dense()` function works\n",
    "\n",
    "Import a relevant cost / loss function for binary classification from keras.losses (https://keras.io/losses/)\n",
    "\n",
    "See the following links for how to compile, train and evaluate the model\n",
    "\n",
    "https://keras.io/api/models/model_training_apis/#compile-method\n",
    "\n",
    "https://keras.io/api/models/model_training_apis/#fit-method\n",
    "\n",
    "https://keras.io/api/models/model_training_apis/#evaluate-method\n"
   ]
  },
  {
   "cell_type": "code",
   "execution_count": 115,
   "metadata": {},
   "outputs": [],
   "source": [
    "from keras.models import Sequential, Model\n",
    "from keras.layers import Input, Dense\n",
    "from keras.optimizers import SGD\n",
    "#from keras.losses import sparse_categorical_accuracy\n",
    "\n",
    "# Set seed from random number generator, for better comparisons\n",
    "from numpy.random import seed\n",
    "seed(123)\n",
    "\n",
    "def build_DNN(input_shape, n_layers, n_nodes, act_fun='sigmoid', optimizer='sgd', learning_rate=0.01, \n",
    "              use_bn=False, use_dropout=False, use_custom_dropout=False):\n",
    "    \n",
    "    # Setup optimizer, depending on input parameter string, put it to the last\n",
    "    opt = SGD(learning_rate=0.01)\n",
    "    # Setup a sequential model\n",
    "    model = Sequential()\n",
    "\n",
    "    # Add layers to the model, using the input parameters of the build_DNN function\n",
    "    model.add(Input(shape=(input_shape,)  ))\n",
    "    \n",
    "    # Add first layer, requires input shape\n",
    "    model.add(Dense(n_nodes, activation=act_fun))\n",
    "    \n",
    "    \n",
    "    # Add remaining layers, do not require input shape\n",
    "    for i in range(n_layers-1):    ###1\n",
    "        model.add(Dense(n_nodes, activation=act_fun))     \n",
    "           \n",
    "       \n",
    "    # Final layer\n",
    "    model.add(Dense(1,activation='sigmoid'))  \n",
    "    \n",
    "    # Compile model\n",
    "    model.compile(optimizer=opt,loss='binary_crossentropy', metrics=['accuracy'])\n",
    "    \n",
    "    return model"
   ]
  },
  {
   "cell_type": "code",
   "execution_count": 116,
   "metadata": {},
   "outputs": [],
   "source": [
    "# model0=build_DNN(input_shape, n_layers, n_nodes, act_fun='sigmoid', optimizer='sgd', learning_rate=0.01, \n",
    "#               use_bn=False, use_dropout=False, use_custom_dropout=False)\n",
    "# model0.summary()\n",
    "\n",
    "# model0(X)"
   ]
  },
  {
   "cell_type": "code",
   "execution_count": 117,
   "metadata": {},
   "outputs": [],
   "source": [
    "# Lets define a help function for plotting the training results\n",
    "\n",
    "import matplotlib.pyplot as plt\n",
    "def plot_results(history):\n",
    "    \n",
    "    val_loss = history.history['val_loss']\n",
    "    acc = history.history['accuracy']\n",
    "    loss = history.history['loss']\n",
    "    val_acc = history.history['val_accuracy']\n",
    "    \n",
    "    plt.figure(figsize=(10,4))\n",
    "    plt.xlabel('Epochs')\n",
    "    plt.ylabel('Loss')\n",
    "    plt.plot(loss)\n",
    "    plt.plot(val_loss)\n",
    "    plt.legend(['Training','Validation'])\n",
    "\n",
    "    plt.figure(figsize=(10,4))\n",
    "    plt.xlabel('Epochs')\n",
    "    plt.ylabel('Accuracy')\n",
    "    plt.plot(acc)\n",
    "    plt.plot(val_acc)\n",
    "    plt.legend(['Training','Validation'])\n",
    "\n",
    "    plt.show()"
   ]
  },
  {
   "cell_type": "markdown",
   "metadata": {},
   "source": [
    "# Part 10: Train the DNN\n",
    "\n",
    "Time to train the DNN, we start simple with 2 layers with 20 nodes each, learning rate 0.1.\n",
    "\n",
    "Relevant functions\n",
    "\n",
    "`build_DNN`, the function we defined in Part 9, call it with the parameters you want to use\n",
    "\n",
    "`model.fit()`, train the model with some training data\n",
    "\n",
    "`model.evaluate()`, apply the trained model to some test data\n",
    "\n",
    "See the following links for how to train and evaluate the model\n",
    "\n",
    "https://keras.io/api/models/model_training_apis/#fit-method\n",
    "\n",
    "https://keras.io/api/models/model_training_apis/#evaluate-method\n"
   ]
  },
  {
   "cell_type": "markdown",
   "metadata": {},
   "source": [
    "### 2 layers, 20 nodes"
   ]
  },
  {
   "cell_type": "code",
   "execution_count": 118,
   "metadata": {
    "scrolled": true
   },
   "outputs": [
    {
     "name": "stdout",
     "output_type": "stream",
     "text": [
      "Model: \"sequential_38\"\n",
      "_________________________________________________________________\n",
      "Layer (type)                 Output Shape              Param #   \n",
      "=================================================================\n",
      "dense_104 (Dense)            (None, 20)                1860      \n",
      "_________________________________________________________________\n",
      "dense_105 (Dense)            (None, 20)                420       \n",
      "_________________________________________________________________\n",
      "dense_106 (Dense)            (None, 1)                 21        \n",
      "=================================================================\n",
      "Total params: 2,301\n",
      "Trainable params: 2,301\n",
      "Non-trainable params: 0\n",
      "_________________________________________________________________\n",
      "Epoch 1/20\n",
      "54/54 [==============================] - 1s 12ms/step - loss: 0.5577 - accuracy: 0.8417 - val_loss: 0.4835 - val_accuracy: 0.8402\n",
      "Epoch 2/20\n",
      "54/54 [==============================] - 0s 9ms/step - loss: 0.4568 - accuracy: 0.8407 - val_loss: 0.4389 - val_accuracy: 0.8402\n",
      "Epoch 3/20\n",
      "54/54 [==============================] - 0s 8ms/step - loss: 0.4296 - accuracy: 0.8407 - val_loss: 0.4233 - val_accuracy: 0.8402\n",
      "Epoch 4/20\n",
      "54/54 [==============================] - 0s 8ms/step - loss: 0.4183 - accuracy: 0.8407 - val_loss: 0.4150 - val_accuracy: 0.8402\n",
      "Epoch 5/20\n",
      "54/54 [==============================] - 0s 8ms/step - loss: 0.4111 - accuracy: 0.8407 - val_loss: 0.4088 - val_accuracy: 0.8402\n",
      "Epoch 6/20\n",
      "54/54 [==============================] - 0s 8ms/step - loss: 0.4052 - accuracy: 0.8407 - val_loss: 0.4032 - val_accuracy: 0.8402\n",
      "Epoch 7/20\n",
      "54/54 [==============================] - 0s 8ms/step - loss: 0.3997 - accuracy: 0.8407 - val_loss: 0.3977 - val_accuracy: 0.8402\n",
      "Epoch 8/20\n",
      "54/54 [==============================] - 0s 8ms/step - loss: 0.3942 - accuracy: 0.8407 - val_loss: 0.3922 - val_accuracy: 0.8402\n",
      "Epoch 9/20\n",
      "54/54 [==============================] - 0s 7ms/step - loss: 0.3887 - accuracy: 0.8407 - val_loss: 0.3867 - val_accuracy: 0.8402\n",
      "Epoch 10/20\n",
      "54/54 [==============================] - 0s 9ms/step - loss: 0.3831 - accuracy: 0.8407 - val_loss: 0.3810 - val_accuracy: 0.8402\n",
      "Epoch 11/20\n",
      "54/54 [==============================] - 0s 7ms/step - loss: 0.3774 - accuracy: 0.8407 - val_loss: 0.3753 - val_accuracy: 0.8402\n",
      "Epoch 12/20\n",
      "54/54 [==============================] - 0s 7ms/step - loss: 0.3716 - accuracy: 0.8407 - val_loss: 0.3695 - val_accuracy: 0.8402\n",
      "Epoch 13/20\n",
      "54/54 [==============================] - 0s 8ms/step - loss: 0.3657 - accuracy: 0.8407 - val_loss: 0.3636 - val_accuracy: 0.8402\n",
      "Epoch 14/20\n",
      "54/54 [==============================] - 0s 8ms/step - loss: 0.3598 - accuracy: 0.8407 - val_loss: 0.3577 - val_accuracy: 0.8402\n",
      "Epoch 15/20\n",
      "54/54 [==============================] - 1s 10ms/step - loss: 0.3538 - accuracy: 0.8407 - val_loss: 0.3516 - val_accuracy: 0.8402\n",
      "Epoch 16/20\n",
      "54/54 [==============================] - 0s 7ms/step - loss: 0.3478 - accuracy: 0.8407 - val_loss: 0.3456 - val_accuracy: 0.8402\n",
      "Epoch 17/20\n",
      "54/54 [==============================] - 0s 8ms/step - loss: 0.3417 - accuracy: 0.8407 - val_loss: 0.3395 - val_accuracy: 0.8402\n",
      "Epoch 18/20\n",
      "54/54 [==============================] - 0s 8ms/step - loss: 0.3356 - accuracy: 0.8407 - val_loss: 0.3334 - val_accuracy: 0.8402\n",
      "Epoch 19/20\n",
      "54/54 [==============================] - 0s 8ms/step - loss: 0.3295 - accuracy: 0.8407 - val_loss: 0.3273 - val_accuracy: 0.8402\n",
      "Epoch 20/20\n",
      "54/54 [==============================] - 0s 7ms/step - loss: 0.3234 - accuracy: 0.8407 - val_loss: 0.3212 - val_accuracy: 0.8402\n"
     ]
    }
   ],
   "source": [
    "# Setup some training parameters\n",
    "batch_size = 10000\n",
    "epochs = 20\n",
    "\n",
    "\n",
    "input_shape = X.shape[1]\n",
    "n_layers = 2\n",
    "n_nodes = 20\n",
    "\n",
    "# Build the model\n",
    "model1 = build_DNN(input_shape, n_layers, n_nodes, act_fun='sigmoid', optimizer='sgd', learning_rate=0.01, \n",
    "              use_bn=False, use_dropout=False, use_custom_dropout=False)\n",
    "\n",
    "model1.summary()\n",
    "history1=model1.fit(Xtrain, Ytrain, epochs=epochs,batch_size=batch_size,validation_data=(Xval,Yval))\n",
    "\n",
    "# Train the model, provide training data and validation data\n",
    "#history1 = plot_results(fit1) "
   ]
  },
  {
   "cell_type": "code",
   "execution_count": 125,
   "metadata": {},
   "outputs": [
    {
     "name": "stdout",
     "output_type": "stream",
     "text": [
      "Model: \"sequential_38\"\n",
      "___________________________________________________________________________________________________________________________\n",
      "Layer (type)                                           Output Shape                                     Param #            \n",
      "===========================================================================================================================\n",
      "dense_104 (Dense)                                      (None, 20)                                       1860               \n",
      "___________________________________________________________________________________________________________________________\n",
      "dense_105 (Dense)                                      (None, 20)                                       420                \n",
      "___________________________________________________________________________________________________________________________\n",
      "dense_106 (Dense)                                      (None, 1)                                        21                 \n",
      "===========================================================================================================================\n",
      "Total params: 2,301\n",
      "Trainable params: 2,301\n",
      "Non-trainable params: 0\n",
      "___________________________________________________________________________________________________________________________\n"
     ]
    }
   ],
   "source": [
    "model1.summary(123)"
   ]
  },
  {
   "cell_type": "code",
   "execution_count": 126,
   "metadata": {},
   "outputs": [
    {
     "data": {
      "text/plain": [
       "2301"
      ]
     },
     "execution_count": 126,
     "metadata": {},
     "output_type": "execute_result"
    }
   ],
   "source": [
    "#https://stackoverflow.com/questions/62913689/why-do-i-get-6-parameters-in-keras-in-simple-2-output-2-input-network\n",
    "model1.count_params()"
   ]
  },
  {
   "cell_type": "code",
   "execution_count": 133,
   "metadata": {},
   "outputs": [
    {
     "data": {
      "text/plain": [
       "[array([[-0.0682249 , -0.03362398, -0.1000131 , ..., -0.01918482,\n",
       "          0.04564133,  0.12123282],\n",
       "        [ 0.09893011,  0.01232966, -0.16255042, ..., -0.16478956,\n",
       "          0.06425702,  0.30572045],\n",
       "        [ 0.13039456, -0.07458293, -0.0123549 , ..., -0.14136086,\n",
       "         -0.10193576,  0.03285349],\n",
       "        ...,\n",
       "        [ 0.09498128,  0.17234409,  0.20491739, ..., -0.18158245,\n",
       "         -0.05575847, -0.00646567],\n",
       "        [ 0.22861981, -0.04352651,  0.12663724, ...,  0.1736004 ,\n",
       "          0.09583703,  0.03763353],\n",
       "        [-0.09919674,  0.12131887,  0.19883437, ..., -0.01723318,\n",
       "         -0.1690433 , -0.04063721]], dtype=float32),\n",
       " array([ 0.0060769 , -0.00141334, -0.00383063,  0.01561234, -0.00798404,\n",
       "         0.01475803, -0.01541509,  0.00983956,  0.01038972,  0.00575143,\n",
       "         0.00685712,  0.00512085, -0.00859069, -0.00067068, -0.00098216,\n",
       "        -0.00136154,  0.02691223, -0.00245178, -0.00338106,  0.02769405],\n",
       "       dtype=float32),\n",
       " array([[-0.04470812,  0.11102189, -0.31537464,  0.04076394,  0.18883064,\n",
       "         -0.25809422,  0.38610646, -0.23246999, -0.2986944 ,  0.33009714,\n",
       "          0.23011129, -0.32197344,  0.14902627,  0.03041846,  0.07153605,\n",
       "          0.40199745, -0.15944082, -0.21347135,  0.07026161,  0.11594157],\n",
       "        [-0.18017535, -0.05490465,  0.2630832 ,  0.24674857, -0.08811634,\n",
       "         -0.1437155 , -0.10488375, -0.00709413, -0.17378584,  0.13628271,\n",
       "          0.2378383 ,  0.33985937,  0.05524841, -0.30271518, -0.06877407,\n",
       "          0.36286566,  0.0519911 ,  0.28159338, -0.24202003,  0.3207767 ],\n",
       "        [ 0.2754098 , -0.21498694,  0.00660639,  0.31691793,  0.09613886,\n",
       "          0.38042754, -0.05508842, -0.11273652, -0.3793095 ,  0.31540406,\n",
       "          0.22799411, -0.32697687,  0.03829121,  0.09690186, -0.288139  ,\n",
       "         -0.1374481 , -0.12673575,  0.19656788,  0.32891473, -0.35283   ],\n",
       "        [-0.27391213,  0.2627426 , -0.17974994, -0.10066456,  0.20841974,\n",
       "         -0.05171027,  0.18430345,  0.07002515,  0.3429339 , -0.2639102 ,\n",
       "         -0.24316832, -0.13195819,  0.05853963, -0.03229032, -0.36188656,\n",
       "          0.19111909, -0.3149    ,  0.17220812,  0.28847918, -0.09773199],\n",
       "        [-0.24485779, -0.20790993,  0.34648582, -0.05361496, -0.18164141,\n",
       "         -0.00757144, -0.11880923,  0.19208825,  0.28231025,  0.3719786 ,\n",
       "         -0.27715534, -0.01794127, -0.19903524, -0.35507563, -0.14128679,\n",
       "         -0.19361544, -0.3330838 ,  0.29432532,  0.05271616,  0.14362016],\n",
       "        [-0.36952934, -0.01201709, -0.27767938, -0.34649664,  0.3983368 ,\n",
       "         -0.07696585, -0.03912671,  0.01926999,  0.4206411 , -0.00503915,\n",
       "         -0.08078317,  0.16272594,  0.12189425, -0.0442061 , -0.3275756 ,\n",
       "         -0.0081597 , -0.00308887, -0.20691566,  0.34758326,  0.12466008],\n",
       "        [-0.11179766, -0.01060626,  0.36950803,  0.02521021,  0.01788297,\n",
       "          0.3950025 ,  0.03929602, -0.36503622, -0.18319935, -0.11027095,\n",
       "         -0.16549404, -0.3744308 ,  0.24876347,  0.20007609,  0.1409866 ,\n",
       "         -0.04541332,  0.10386707, -0.2805915 , -0.26966375,  0.05375995],\n",
       "        [ 0.2051722 , -0.08034996, -0.33763275, -0.3346841 , -0.00536018,\n",
       "         -0.0498864 , -0.16918084,  0.00230437, -0.23794626,  0.01074127,\n",
       "          0.347289  , -0.29441643, -0.39134014, -0.3852467 , -0.29767933,\n",
       "         -0.11244424, -0.34818736, -0.1682145 ,  0.3181892 , -0.3566284 ],\n",
       "        [-0.29377484,  0.3432975 , -0.2708291 ,  0.06047233,  0.37392336,\n",
       "         -0.05940996,  0.06579526,  0.12205926, -0.30782524, -0.07492335,\n",
       "          0.40373796, -0.32306337,  0.04025061,  0.01817762, -0.29581556,\n",
       "          0.11866929,  0.29072872,  0.3069424 , -0.27602488,  0.30420825],\n",
       "        [-0.20579042,  0.00215105,  0.29743302, -0.11319304,  0.0570231 ,\n",
       "          0.18494369, -0.04853233, -0.368713  ,  0.15477523,  0.24222682,\n",
       "          0.28815904, -0.30244306,  0.19967085,  0.40839252,  0.02474101,\n",
       "         -0.0711008 ,  0.06965835,  0.27683946, -0.3211493 , -0.29580724],\n",
       "        [ 0.0402234 , -0.04742021,  0.1030132 ,  0.21354537, -0.1787646 ,\n",
       "         -0.37619957,  0.1037169 , -0.10852569,  0.34180897, -0.03508008,\n",
       "          0.02326351, -0.26884317, -0.2075574 , -0.23433922,  0.36941776,\n",
       "         -0.12626047, -0.05873003, -0.01879012, -0.02140129, -0.33372492],\n",
       "        [ 0.13953717, -0.2619102 , -0.16389585, -0.3177384 , -0.35534543,\n",
       "         -0.14477153, -0.10670131, -0.09242367,  0.12413224, -0.08535416,\n",
       "          0.27198824, -0.10087582, -0.27337682,  0.39176482,  0.06677052,\n",
       "         -0.36309114,  0.02143783,  0.02285435,  0.21467395,  0.3065198 ],\n",
       "        [-0.24368942, -0.44232762, -0.02464225, -0.30199102, -0.21868934,\n",
       "          0.3412324 , -0.32961503, -0.33008987, -0.04373147,  0.0248103 ,\n",
       "         -0.0828629 , -0.04216814, -0.2997724 ,  0.3493364 , -0.17445855,\n",
       "          0.04402139, -0.05373345,  0.0652505 , -0.42562625, -0.04334777],\n",
       "        [ 0.33380258,  0.20750855,  0.0315609 , -0.10515022,  0.09497108,\n",
       "         -0.14432423, -0.3398734 ,  0.29093218, -0.23675163, -0.01806536,\n",
       "          0.08055454,  0.18289098, -0.29333636,  0.33177418, -0.15747434,\n",
       "          0.2992209 , -0.08761183,  0.10399384,  0.09095304,  0.06045932],\n",
       "        [-0.22114664,  0.12061104,  0.24617666, -0.1914712 , -0.27013272,\n",
       "         -0.07156932, -0.10613393,  0.29396394,  0.06631406, -0.31408912,\n",
       "          0.03713445, -0.37104288,  0.23126344,  0.1191356 ,  0.19715936,\n",
       "         -0.06902955,  0.38076016, -0.10169435,  0.1593414 , -0.17156406],\n",
       "        [-0.28431833,  0.1399309 ,  0.16855654,  0.16198756,  0.26301163,\n",
       "          0.06517965, -0.3310367 ,  0.20566669, -0.07962454,  0.27990854,\n",
       "          0.27858183,  0.32798293,  0.2658394 ,  0.00794888, -0.11907165,\n",
       "          0.24257784,  0.07288603, -0.15296522, -0.3098932 , -0.26992106],\n",
       "        [ 0.06967141,  0.43268085, -0.37300432,  0.035564  ,  0.37714064,\n",
       "         -0.01979063,  0.19271886, -0.34597796, -0.14377104, -0.19984818,\n",
       "          0.32272464, -0.26391938,  0.28628394, -0.3674977 , -0.1719869 ,\n",
       "          0.01486245,  0.28269345, -0.11786144,  0.05535506, -0.19715215],\n",
       "        [ 0.09583118,  0.2342344 ,  0.04893305, -0.08394405,  0.39964497,\n",
       "         -0.03222514,  0.2134914 ,  0.07466648,  0.41284078,  0.08573329,\n",
       "         -0.28301   , -0.36395147,  0.17815438, -0.2806278 ,  0.23048411,\n",
       "         -0.16879866, -0.1920271 ,  0.16350856, -0.32061306,  0.18158029],\n",
       "        [-0.06231366, -0.08928837,  0.23824504,  0.22361983, -0.15753993,\n",
       "         -0.17114364,  0.07969844, -0.35765085, -0.39868656,  0.07499386,\n",
       "          0.05281928, -0.24839394, -0.22372034,  0.04118187, -0.00390288,\n",
       "         -0.06635368, -0.22987553, -0.34926414,  0.21340951,  0.19116738],\n",
       "        [-0.0489406 ,  0.47034085,  0.18972471, -0.00431021,  0.03215018,\n",
       "         -0.28768876, -0.23431347,  0.3241761 ,  0.3220043 , -0.07194222,\n",
       "          0.14643672,  0.14306627, -0.3080294 , -0.3697636 , -0.10352738,\n",
       "          0.37453076, -0.23357093,  0.36711407,  0.3040263 , -0.3904952 ]],\n",
       "       dtype=float32),\n",
       " array([-0.00934832,  0.0039847 , -0.02409629, -0.01441242,  0.00596011,\n",
       "        -0.01706946,  0.01309798, -0.02809628,  0.02312962, -0.02225002,\n",
       "         0.04090216, -0.00231925, -0.02349489, -0.01580777, -0.00291452,\n",
       "         0.01490595,  0.0150449 ,  0.01646731,  0.01790022, -0.01198319],\n",
       "       dtype=float32),\n",
       " array([[-0.16351967],\n",
       "        [ 0.7511275 ],\n",
       "        [-0.39967188],\n",
       "        [-0.19678007],\n",
       "        [ 0.75354785],\n",
       "        [-0.48971277],\n",
       "        [ 0.28814253],\n",
       "        [-0.17474642],\n",
       "        [ 0.527898  ],\n",
       "        [-0.3378688 ],\n",
       "        [ 0.6378482 ],\n",
       "        [ 0.00462476],\n",
       "        [-0.26409096],\n",
       "        [-0.50633454],\n",
       "        [-0.09886289],\n",
       "        [ 0.56787175],\n",
       "        [ 0.32722992],\n",
       "        [ 0.39448217],\n",
       "        [ 0.5434447 ],\n",
       "        [-0.20654304]], dtype=float32),\n",
       " array([0.2210936], dtype=float32)]"
      ]
     },
     "execution_count": 133,
     "metadata": {},
     "output_type": "execute_result"
    }
   ],
   "source": [
    "model1.layers[0].get_weights()\n",
    "model1.layers[1].get_weights()\n",
    "model1.layers[2].get_weights()\n",
    "#model1.layers[3].get_weights()\n",
    "model1.get_weights()"
   ]
  },
  {
   "cell_type": "code",
   "execution_count": 121,
   "metadata": {},
   "outputs": [
    {
     "name": "stdout",
     "output_type": "stream",
     "text": [
      "12/12 [==============================] - 0s 3ms/step - loss: 0.3183 - accuracy: 0.8422\n",
      "Test loss: 0.3183\n",
      "Test accuracy: 0.8422\n"
     ]
    }
   ],
   "source": [
    "# Evaluate the model on the test data\n",
    "score=model1.evaluate(Xtest,  Ytest, batch_size=batch_size)\n",
    "\n",
    "\n",
    "print('Test loss: %.4f' % score[0])\n",
    "print('Test accuracy: %.4f' % score[1])"
   ]
  },
  {
   "cell_type": "code",
   "execution_count": 122,
   "metadata": {},
   "outputs": [
    {
     "data": {
      "image/png": "[encoded data removed]",
      "text/plain": [
       "<Figure size 720x288 with 1 Axes>"
      ]
     },
     "metadata": {
      "needs_background": "light"
     },
     "output_type": "display_data"
    },
    {
     "data": {
      "image/png": "[encoded data removed]",
      "text/plain": [
       "<Figure size 720x288 with 1 Axes>"
      ]
     },
     "metadata": {
      "needs_background": "light"
     },
     "output_type": "display_data"
    }
   ],
   "source": [
    "# Plot the history from the training run\n",
    "plot_results(history1)"
   ]
  },
  {
   "cell_type": "markdown",
   "metadata": {},
   "source": [
    "# Part 11: More questions\n",
    "\n",
    "Question 8: What happens if you add several Dense layers without specifying the activation function?\n",
    "\n",
    "Question 9: How are the weights in each dense layer initialized as default? How are the bias weights initialized?\n"
   ]
  },
  {
   "cell_type": "markdown",
   "metadata": {},
   "source": [
    "# Part 12: Balancing the classes\n",
    "\n",
    "This dataset is rather unbalanced, we need to define class weights so that the training pays more attention to the class with fewer samples. We use a function in scikit learn\n",
    "\n",
    "https://scikit-learn.org/stable/modules/generated/sklearn.utils.class_weight.compute_class_weight.html"
   ]
  },
  {
   "cell_type": "code",
   "execution_count": null,
   "metadata": {},
   "outputs": [],
   "source": [
    "from sklearn.utils import class_weight\n",
    "\n",
    "# Calculate class weights\n",
    "\n",
    "\n",
    "# Print the class weights\n",
    "\n",
    "# Keras wants the weights in this form, uncomment and change value1 and value2 to your weights, \n",
    "# or get them from the array that is returned from class_weight\n",
    "\n",
    "#class_weights = {0: value1,\n",
    "#                 1: value2}\n"
   ]
  },
  {
   "cell_type": "markdown",
   "metadata": {},
   "source": [
    "### 2 layers, 20 nodes, class weights"
   ]
  },
  {
   "cell_type": "code",
   "execution_count": null,
   "metadata": {
    "scrolled": true
   },
   "outputs": [],
   "source": [
    "# Setup some training parameters\n",
    "batch_size = 10000\n",
    "epochs = 20\n",
    "input_shape = ?\n",
    "\n",
    "# Build and train model\n",
    "model2 = \n",
    "\n",
    "history2 = "
   ]
  },
  {
   "cell_type": "code",
   "execution_count": null,
   "metadata": {},
   "outputs": [],
   "source": [
    "# Evaluate model on test data\n",
    "score = \n",
    "\n",
    "print('Test loss: %.4f' % score[0])\n",
    "print('Test accuracy: %.4f' % score[1])"
   ]
  },
  {
   "cell_type": "code",
   "execution_count": null,
   "metadata": {},
   "outputs": [],
   "source": [
    "plot_results(history2)"
   ]
  },
  {
   "cell_type": "markdown",
   "metadata": {},
   "source": [
    "# Part 13: More questions\n",
    "\n",
    "Skip questions 11 and 12 if you run on the CPU\n",
    "\n",
    "Question 10: Why do we have to use a batch size? Why can't we simply use all data at once? This is more relevant for even larger datasets.\n",
    "\n",
    "Question 11: How busy is the GPU for a batch size of 100? How much GPU memory is used? Hint: run 'nvidia-smi' on the cloud computer a few times during training.\n",
    "\n",
    "Question 12: What is the processing time for one training epoch when the batch size is 100? What is the processing time for one epoch when the batch size is 1,000? What is the processing time for one epoch when the batch size is 10,000? Explain the results. \n",
    "\n",
    "Question 13: How many times are the weights in the DNN updated in each training epoch if the batch size is 100? How many times are the weights in the DNN updated in each training epoch if the batch size is 1,000? How many times are the weights in the DNN updated in each training epoch if the batch size is 10,000?  \n",
    "\n",
    "Question 14: What limits how large the batch size can be?\n",
    "\n",
    "Question 15: Generally speaking, how is the learning rate related to the batch size? If the batch size is decreased, how should the learning rate be changed?\n",
    "\n",
    "Lets use a batch size of 10,000 from now on, and a learning rate of 0.1."
   ]
  },
  {
   "cell_type": "markdown",
   "metadata": {},
   "source": [
    "# Part 14: Increasing the complexity\n",
    "\n",
    "Lets try some different configurations of number of layers and number of nodes per layer.\n",
    "\n",
    "Question 16: How many trainable parameters does the network with 4 dense layers with 50 nodes each have, compared to the initial network with 2 layers and 20 nodes per layer? Hint: use model.summary() #mark"
   ]
  },
  {
   "cell_type": "markdown",
   "metadata": {},
   "source": [
    "### 4 layers, 20 nodes, class weights"
   ]
  },
  {
   "cell_type": "code",
   "execution_count": null,
   "metadata": {
    "scrolled": true
   },
   "outputs": [],
   "source": [
    "# Setup some training parameters\n",
    "batch_size = 10000\n",
    "epochs = 20\n",
    "input_shape = ?\n",
    "\n",
    "# Build and train model\n",
    "model3 = \n",
    "\n",
    "history3 = "
   ]
  },
  {
   "cell_type": "code",
   "execution_count": null,
   "metadata": {},
   "outputs": [],
   "source": [
    "# Evaluate model on test data\n",
    "score = \n",
    "\n",
    "print('Test loss: %.4f' % score[0])\n",
    "print('Test accuracy: %.4f' % score[1])"
   ]
  },
  {
   "cell_type": "code",
   "execution_count": null,
   "metadata": {},
   "outputs": [],
   "source": [
    "plot_results(history3)"
   ]
  },
  {
   "cell_type": "markdown",
   "metadata": {},
   "source": [
    "### 2 layers, 50 nodes, class weights"
   ]
  },
  {
   "cell_type": "code",
   "execution_count": null,
   "metadata": {
    "scrolled": true
   },
   "outputs": [],
   "source": [
    "# Setup some training parameters\n",
    "batch_size = 10000\n",
    "epochs = 20\n",
    "input_shape = ?\n",
    "\n",
    "# Build and train model\n",
    "model4 = \n",
    "\n",
    "history4 = "
   ]
  },
  {
   "cell_type": "code",
   "execution_count": null,
   "metadata": {},
   "outputs": [],
   "source": [
    "# Evaluate model on test data\n",
    "score = \n",
    "\n",
    "print('Test loss: %.4f' % score[0])\n",
    "print('Test accuracy: %.4f' % score[1])"
   ]
  },
  {
   "cell_type": "code",
   "execution_count": null,
   "metadata": {},
   "outputs": [],
   "source": [
    "plot_results(history4)"
   ]
  },
  {
   "cell_type": "markdown",
   "metadata": {},
   "source": [
    "### 4 layers, 50 nodes, class weights"
   ]
  },
  {
   "cell_type": "code",
   "execution_count": null,
   "metadata": {
    "scrolled": true
   },
   "outputs": [],
   "source": [
    "# Setup some training parameters\n",
    "batch_size = 10000\n",
    "epochs = 20\n",
    "input_shape = ?\n",
    "\n",
    "# Build and train model\n",
    "model5 = \n",
    "\n",
    "history5 = "
   ]
  },
  {
   "cell_type": "code",
   "execution_count": null,
   "metadata": {},
   "outputs": [],
   "source": [
    "# Evaluate model on test data\n",
    "score = \n",
    "\n",
    "print('Test loss: %.4f' % score[0])\n",
    "print('Test accuracy: %.4f' % score[1])"
   ]
  },
  {
   "cell_type": "code",
   "execution_count": null,
   "metadata": {},
   "outputs": [],
   "source": [
    "plot_results(history5)"
   ]
  },
  {
   "cell_type": "markdown",
   "metadata": {},
   "source": [
    "# Part 15: Batch normalization\n",
    "\n",
    "Now add batch normalization after each dense layer in `build_DNN`. Remember to import BatchNormalization from keras.layers. \n",
    "\n",
    "See https://keras.io/layers/normalization/ for information about how to call the function.\n",
    "\n",
    "Question 17: Why is batch normalization important when training deep networks?"
   ]
  },
  {
   "cell_type": "markdown",
   "metadata": {},
   "source": [
    "### 2 layers, 20 nodes, class weights, batch normalization"
   ]
  },
  {
   "cell_type": "code",
   "execution_count": null,
   "metadata": {},
   "outputs": [],
   "source": [
    "seed(123)\n",
    "\n",
    "def build_DNN(input_shape, n_layers, n_nodes, act_fun='sigmoid', optimizer='sgd', learning_rate=0.01, \n",
    "              use_bn=False, use_dropout=False, use_custom_dropout=False):\n",
    "    \n",
    "    # Setup optimizer, depending on input parameter string, put it to the last\n",
    "    opt = SGD(learning_rate=0.01)\n",
    "    # Setup a sequential model\n",
    "    model = Sequential()\n",
    "\n",
    "    # Add layers to the model, using the input parameters of the build_DNN function\n",
    "    model.add(Input(shape=(input_shape,)  ))\n",
    "    \n",
    "    # Add first layer, requires input shape\n",
    "    model.add(Dense(n_nodes, activation=act_fun))\n",
    "    model.add(BatchNormalization())\n",
    "    \n",
    "    # Add remaining layers, do not require input shape\n",
    "    for i in range(n_layers-1):    ###1\n",
    "        model.add(Dense(n_nodes, activation=act_fun))     \n",
    "        model.add(BatchNormalization())   \n",
    "       \n",
    "    # Final layer\n",
    "    model.add(Dense(1,activation='sigmoid'))  \n",
    "    \n",
    "    # Compile model\n",
    "    model.compile(optimizer=opt,loss='binary_crossentropy', metrics=['accuracy'])\n",
    "    \n",
    "    return model"
   ]
  },
  {
   "cell_type": "code",
   "execution_count": null,
   "metadata": {
    "scrolled": true
   },
   "outputs": [],
   "source": [
    "#mark\n",
    "# Setup some training parameters   \n",
    "batch_size = 10000\n",
    "epochs = 20\n",
    "input_shape = ?\n",
    "\n",
    "# Build and train model\n",
    "model6 = \n",
    "\n",
    "history6 = "
   ]
  },
  {
   "cell_type": "code",
   "execution_count": null,
   "metadata": {},
   "outputs": [],
   "source": [
    "# Evaluate model on test data\n",
    "score = \n",
    "\n",
    "print('Test loss: %.4f' % score[0])\n",
    "print('Test accuracy: %.4f' % score[1])"
   ]
  },
  {
   "cell_type": "code",
   "execution_count": null,
   "metadata": {},
   "outputs": [],
   "source": [
    "plot_results(history6)"
   ]
  },
  {
   "cell_type": "markdown",
   "metadata": {},
   "source": [
    "# Part 16: Activation function\n",
    "\n",
    "Try changing the activation function in each layer from sigmoid to ReLU, write down the test accuracy.\n",
    "\n",
    "Note: the last layer should still have a sigmoid activation function.\n",
    "\n",
    "https://keras.io/api/layers/activations/"
   ]
  },
  {
   "cell_type": "markdown",
   "metadata": {},
   "source": [
    "### 2 layers, 20 nodes, class weights, ReLU, no batch normalization"
   ]
  },
  {
   "cell_type": "code",
   "execution_count": null,
   "metadata": {
    "scrolled": true
   },
   "outputs": [],
   "source": [
    "# Setup some training parameters\n",
    "batch_size = 10000\n",
    "epochs = 20\n",
    "input_shape = ?\n",
    "\n",
    "# Build and train model\n",
    "model7 = \n",
    "\n",
    "history7 = "
   ]
  },
  {
   "cell_type": "code",
   "execution_count": null,
   "metadata": {},
   "outputs": [],
   "source": [
    "# Evaluate model on test data\n",
    "score = \n",
    "\n",
    "print('Test loss: %.4f' % score[0])\n",
    "print('Test accuracy: %.4f' % score[1])"
   ]
  },
  {
   "cell_type": "code",
   "execution_count": null,
   "metadata": {},
   "outputs": [],
   "source": [
    "plot_results(history7)"
   ]
  },
  {
   "cell_type": "markdown",
   "metadata": {},
   "source": [
    "# Part 17: Optimizer\n",
    "\n",
    "Try changing the optimizer from SGD to Adam (with learning rate 0.1 as before). Remember to import the Adam optimizer from keras.optimizers. \n",
    "\n",
    "https://keras.io/optimizers/\n"
   ]
  },
  {
   "cell_type": "markdown",
   "metadata": {},
   "source": [
    "### 2 layers, 20 nodes, class weights, Adam optimizer, no batch normalization, sigmoid activations"
   ]
  },
  {
   "cell_type": "code",
   "execution_count": null,
   "metadata": {
    "scrolled": true
   },
   "outputs": [],
   "source": [
    "# Setup some training parameters\n",
    "batch_size = 10000\n",
    "epochs = 20\n",
    "input_shape = ?\n",
    "\n",
    "# Build and train model\n",
    "model8 = \n",
    "\n",
    "history8 = "
   ]
  },
  {
   "cell_type": "code",
   "execution_count": null,
   "metadata": {},
   "outputs": [],
   "source": [
    "# Evaluate model on test data\n",
    "score = \n",
    "\n",
    "print('Test loss: %.4f' % score[0])\n",
    "print('Test accuracy: %.4f' % score[1])"
   ]
  },
  {
   "cell_type": "code",
   "execution_count": null,
   "metadata": {},
   "outputs": [],
   "source": [
    "plot_results(history8)"
   ]
  },
  {
   "cell_type": "markdown",
   "metadata": {},
   "source": [
    "# Part 18: Dropout regularization\n",
    "\n",
    "Dropout is a type of regularization that can improve accuracy for validation and test data. \n",
    "\n",
    "Add a Dropout layer after each Dense layer (but not after the final dense layer) in `build_DNN`, with a dropout probability of 50%. Remember to first import the Dropout layer from keras.layers\n",
    "\n",
    "See https://keras.io/api/layers/regularization_layers/dropout/ for how the Dropout layer works.\n",
    "\n",
    "---\n",
    "\n",
    "Question 18: How does the validation accuracy change when adding dropout?\n",
    "\n",
    "Question 19: How does the test accuracy change when adding dropout?"
   ]
  },
  {
   "cell_type": "code",
   "execution_count": 124,
   "metadata": {},
   "outputs": [],
   "source": [
    "#https://chrisalbon.com/deep_learning/keras/adding_dropout/\n",
    "from keras.layers import Dropout\n",
    "\n",
    "seed(123)\n",
    "\n",
    "def build_DNN(input_shape, n_layers, n_nodes, act_fun='sigmoid', optimizer='sgd', learning_rate=0.01, \n",
    "              use_bn=False, use_dropout=False, use_custom_dropout=False):\n",
    "    \n",
    "    # Setup optimizer, depending on input parameter string, put it to the last\n",
    "    opt = SGD(learning_rate=0.01)\n",
    "    # Setup a sequential model\n",
    "    model = Sequential()\n",
    "\n",
    "    # Add layers to the model, using the input parameters of the build_DNN function\n",
    "    model.add(Input(shape=(input_shape,)  ))\n",
    "    \n",
    "    # Add first layer, requires input shape\n",
    "    model.add(Dense(n_nodes, activation=act_fun))\n",
    "    model.add(BatchNormalization())\n",
    "    model.add(Dropout(0.1))\n",
    "    \n",
    "    # Add remaining layers, do not require input shape\n",
    "    for i in range(1,n_layers-1):    ###1\n",
    "        model.add(Dense(n_nodes, activation=act_fun))\n",
    "        model.add(BatchNormalization())\n",
    "        model.add(Dropout(0.1))\n",
    "           \n",
    "       \n",
    "    # Final layer\n",
    "    model.add(Dense(1,activation='sigmoid'))  \n",
    "    \n",
    "    # Compile model\n",
    "    model.compile(optimizer=opt,loss='binary_crossentropy', metrics=['accuracy'])\n",
    "    \n",
    "    return model"
   ]
  },
  {
   "cell_type": "markdown",
   "metadata": {},
   "source": [
    "### 2 layers, 20 nodes, class weights, dropout, SGD optimizer, no batch normalization, sigmoid activations"
   ]
  },
  {
   "cell_type": "code",
   "execution_count": null,
   "metadata": {
    "scrolled": true
   },
   "outputs": [],
   "source": [
    "# Setup some training parameters\n",
    "batch_size = 10000\n",
    "epochs = 20\n",
    "input_shape = ?\n",
    "\n",
    "# Build and train model\n",
    "model9 = \n",
    "\n",
    "history9 = "
   ]
  },
  {
   "cell_type": "code",
   "execution_count": null,
   "metadata": {},
   "outputs": [],
   "source": [
    "# Evaluate model on test data\n",
    "score = \n",
    "\n",
    "print('Test loss: %.4f' % score[0])\n",
    "print('Test accuracy: %.4f' % score[1])"
   ]
  },
  {
   "cell_type": "code",
   "execution_count": null,
   "metadata": {},
   "outputs": [],
   "source": [
    "plot_results(history9)"
   ]
  },
  {
   "cell_type": "markdown",
   "metadata": {},
   "source": [
    "# Part 19: Improving performance\n",
    "\n",
    "Spend some time (30 - 90 minutes) playing with the network architecture (number of layers, number of nodes per layer, activation function) and other hyper parameters (optimizer, learning rate, batch size, number of epochs, degree of regularization). For example, try a much deeper network. How much does the training time increase for a network with 10 layers?\n",
    "\n",
    "Question 20: How high classification accuracy can you achieve for the test data? What is your best configuration?"
   ]
  },
  {
   "cell_type": "code",
   "execution_count": null,
   "metadata": {
    "scrolled": true
   },
   "outputs": [],
   "source": [
    "# Find your best configuration for the DNN\n",
    "\n",
    "# Build and train DNN\n",
    "model10 = \n",
    "\n",
    "history10 = \n"
   ]
  },
  {
   "cell_type": "code",
   "execution_count": null,
   "metadata": {},
   "outputs": [],
   "source": [
    "# Evaluate DNN on test data\n",
    "score = \n",
    "\n",
    "print('Test loss: %.4f' % score[0])\n",
    "print('Test accuracy: %.4f' % score[1])"
   ]
  },
  {
   "cell_type": "markdown",
   "metadata": {},
   "source": [
    "# Part 20: Dropout uncertainty\n",
    "\n",
    "Dropout can also be used during testing, to obtain an estimate of the model uncertainty. Since dropout will randomly remove connections, the network will produce different results every time the same (test) data is put into the network. This technique is called Monte Carlo dropout. For more information, see this paper http://proceedings.mlr.press/v48/gal16.pdf\n",
    "\n",
    "To achieve this, we need to redefine the Keras Dropout call by running the cell below, and use 'myDropout' in each call to Dropout, in the cell that defines the DNN. The `build_DNN` function takes two boolean arguments, use_dropout and use_custom_dropout, add a standard Dropout layer if use_dropout is true, add a myDropout layer if use_custom_dropout is true.\n",
    "\n",
    "Run the same test data through the trained network 100 times, with dropout turned on. \n",
    "\n",
    "Question 21: What is the mean and the standard deviation of the test accuracy?"
   ]
  },
  {
   "cell_type": "code",
   "execution_count": null,
   "metadata": {},
   "outputs": [],
   "source": [
    "import keras.backend as K\n",
    "import keras\n",
    "\n",
    "class myDropout(keras.layers.Dropout):\n",
    "    \"\"\"Applies Dropout to the input.\n",
    "    Dropout consists in randomly setting\n",
    "    a fraction `rate` of input units to 0 at each update during training time,\n",
    "    which helps prevent overfitting.\n",
    "    # Arguments\n",
    "        rate: float between 0 and 1. Fraction of the input units to drop.\n",
    "        noise_shape: 1D integer tensor representing the shape of the\n",
    "            binary dropout mask that will be multiplied with the input.\n",
    "            For instance, if your inputs have shape\n",
    "            `(batch_size, timesteps, features)` and\n",
    "            you want the dropout mask to be the same for all timesteps,\n",
    "            you can use `noise_shape=(batch_size, 1, features)`.\n",
    "        seed: A Python integer to use as random seed.\n",
    "    # References\n",
    "        - [Dropout: A Simple Way to Prevent Neural Networks from Overfitting](\n",
    "           http://www.jmlr.org/papers/volume15/srivastava14a/srivastava14a.pdf)\n",
    "    \"\"\"\n",
    "    def __init__(self, rate, training=True, noise_shape=None, seed=None, **kwargs):\n",
    "        super(myDropout, self).__init__(rate, noise_shape=None, seed=None,**kwargs)\n",
    "        self.training = training\n",
    "\n",
    "        \n",
    "    def call(self, inputs, training=None):\n",
    "        if 0. < self.rate < 1.:\n",
    "            noise_shape = self._get_noise_shape(inputs)\n",
    "\n",
    "            def dropped_inputs():\n",
    "                return K.dropout(inputs, self.rate, noise_shape,\n",
    "                                 seed=self.seed)\n",
    "            if not training: \n",
    "                return K.in_train_phase(dropped_inputs, inputs, training=self.training)\n",
    "            return K.in_train_phase(dropped_inputs, inputs, training=training)\n",
    "        return inputs"
   ]
  },
  {
   "cell_type": "markdown",
   "metadata": {},
   "source": [
    "### Your best config, custom dropout"
   ]
  },
  {
   "cell_type": "code",
   "execution_count": null,
   "metadata": {
    "scrolled": true
   },
   "outputs": [],
   "source": [
    "# Your best training parameters\n",
    "\n",
    "\n",
    "# Build and train model\n",
    "model11 = \n",
    "\n",
    "history11 = "
   ]
  },
  {
   "cell_type": "code",
   "execution_count": null,
   "metadata": {},
   "outputs": [],
   "source": [
    "# Run this cell a few times to evalute the model on test data, \n",
    "# if you get slightly different test accuracy every time, Dropout during testing is working\n",
    "\n",
    "# Evaluate model on test data\n",
    "score = \n",
    "                       \n",
    "print('Test accuracy: %.4f' % score[1])"
   ]
  },
  {
   "cell_type": "code",
   "execution_count": null,
   "metadata": {},
   "outputs": [],
   "source": [
    "# Run the testing 100 times, and save the accuracies in an array\n",
    "\n",
    "    \n",
    "# Calculate and print mean and std of accuracies\n",
    "\n"
   ]
  },
  {
   "cell_type": "markdown",
   "metadata": {},
   "source": [
    "# Part 21: Cross validation uncertainty\n",
    "\n",
    "Cross validation (CV) is often used to evaluate a model, by training and testing using different subsets of the data it is possible to get the uncertainty as the standard deviation over folds. We here use a help function from scikit-learn to setup the CV, see https://scikit-learn.org/stable/modules/generated/sklearn.model_selection.StratifiedKFold.html . Use 10 folds with shuffling, random state 1234. \n",
    "\n",
    "Note: We here assume that you have found the best hyper parameters, so here the data are only split into training and testing, no validation.\n",
    "\n",
    "---\n",
    "\n",
    "Question 22: What is the mean and the standard deviation of the test accuracy?\n",
    "\n",
    "Question 23: What is the main advantage of dropout compared to CV for estimating test uncertainty? The difference may not be so large in this notebook, but imagine that you have a network that takes 24 hours to train."
   ]
  },
  {
   "cell_type": "code",
   "execution_count": null,
   "metadata": {},
   "outputs": [],
   "source": [
    "from sklearn.model_selection import StratifiedKFold\n",
    "\n",
    "# Define 10-fold cross validation\n",
    "\n",
    "# Loop over cross validation folds\n",
    "    \n",
    "    # Calculate class weights for current split\n",
    "    \n",
    "    # Rebuild the DNN model, to not continue training on the previously trained model\n",
    "    \n",
    "    # Fit the model with training set and class weights for this fold\n",
    "    \n",
    "    # Evaluate the model using the test set for this fold\n",
    "    \n",
    "    # Save the test accuracy in an array\n",
    "\n",
    "# Calculate and print mean and std of accuracies\n",
    "\n"
   ]
  },
  {
   "cell_type": "markdown",
   "metadata": {},
   "source": [
    "# Part 22: DNN regression\n",
    "\n",
    "A similar DNN can be used for regression, instead of classification.\n",
    "\n",
    "Question 24: How would you change the DNN in order to use it for regression instead?"
   ]
  },
  {
   "cell_type": "markdown",
   "metadata": {},
   "source": [
    "## Report\n",
    "\n",
    "Send in this jupyter notebook, with answers to all questions."
   ]
  }
 ],
 "metadata": {
  "kernelspec": {
   "display_name": "Python 3",
   "language": "python",
   "name": "python3"
  },
  "language_info": {
   "codemirror_mode": {
    "name": "ipython",
    "version": 3
   },
   "file_extension": ".py",
   "mimetype": "text/x-python",
   "name": "python",
   "nbconvert_exporter": "python",
   "pygments_lexer": "ipython3",
   "version": "3.8.8"
  }
 },
 "nbformat": 4,
 "nbformat_minor": 4
}
