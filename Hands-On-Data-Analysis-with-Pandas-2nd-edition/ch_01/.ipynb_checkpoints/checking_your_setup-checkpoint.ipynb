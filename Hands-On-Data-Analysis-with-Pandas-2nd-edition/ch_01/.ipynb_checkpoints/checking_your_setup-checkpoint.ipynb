{
 "cells": [
  {
   "cell_type": "markdown",
   "metadata": {},
   "source": [
    "# Checking your setup\n",
    "Run through this notebook to make sure your environment is properly setup. Be sure to launch Jupyter from inside the virtual environment."
   ]
  },
  {
   "cell_type": "code",
   "execution_count": 1,
   "metadata": {},
   "outputs": [
    {
     "name": "stdout",
     "output_type": "stream",
     "text": [
      "Using Python in C:\\Users\\Administrator\\.julia\\conda\\3:\n",
      "\u001b[42m[ OK ]\u001b[0m Python is version 3.8.5 (default, Sep  3 2020, 21:29:08) [MSC v.1916 64 bit (AMD64)]\n",
      "\n",
      "\u001b[41m[FAIL]\u001b[0m graphviz version 0.14.1 is required, but 0.16 installed.\n",
      "\u001b[41m[FAIL]\u001b[0m imblearn not installed.\n",
      "\u001b[41m[FAIL]\u001b[0m ipympl not installed.\n",
      "\u001b[41m[FAIL]\u001b[0m jupyterlab version 3.0.4 is required, but 3.0.16 installed.\n",
      "\u001b[41m[FAIL]\u001b[0m matplotlib version 3.3.2 is required, but 3.4.2 installed.\n",
      "\u001b[41m[FAIL]\u001b[0m numpy version 1.19.2 is required, but 1.20.3 installed.\n",
      "\u001b[41m[FAIL]\u001b[0m pandas version 1.2.0 is required, but 1.2.4 installed.\n",
      "\u001b[42m[ OK ]\u001b[0m requests\n",
      "\u001b[41m[FAIL]\u001b[0m sklearn version 0.23.2 is required, but 0.24.2 installed.\n",
      "\u001b[41m[FAIL]\u001b[0m scipy version 1.5.2 is required, but 1.6.3 installed.\n",
      "\u001b[41m[FAIL]\u001b[0m seaborn version 0.11.0 is required, but 0.11.1 installed.\n",
      "\u001b[41m[FAIL]\u001b[0m sqlalchemy not installed.\n",
      "\u001b[41m[FAIL]\u001b[0m statsmodels version 0.11.1 is required, but 0.12.2 installed.\n",
      "\u001b[42m[ OK ]\u001b[0m wheel\n",
      "\u001b[41m[FAIL]\u001b[0m login_attempt_simulator not installed.\n",
      "\u001b[41m[FAIL]\u001b[0m ml_utils not installed.\n",
      "\u001b[41m[FAIL]\u001b[0m stock_analysis not installed.\n",
      "\u001b[41m[FAIL]\u001b[0m visual_aids not installed.\n"
     ]
    }
   ],
   "source": [
    "from check_environment import run_checks\n",
    "run_checks()"
   ]
  },
  {
   "cell_type": "markdown",
   "metadata": {},
   "source": [
    "*Note: Adapted from Andreas Mueller's [`check_env.ipynb` notebook](https://github.com/amueller/ml-workshop-1-of-4/blob/master/check_env.ipynb).*\n",
    "\n",
    "<hr>\n",
    "<div style=\"overflow: hidden; margin-bottom: 10px;\">\n",
    "    <div style=\"float: left;\">\n",
    "         <a href=\"./introduction_to_data_analysis.ipynb\">\n",
    "            <button>&#8592; Introduction to Data Analysis</button>\n",
    "        </a>\n",
    "    </div>\n",
    "    <div style=\"float: right;\">\n",
    "        <a href=\"./python_101.ipynb\">\n",
    "            <button>Python 101</button>\n",
    "        </a>\n",
    "        <a href=\"./exercises.ipynb\">\n",
    "            <button>Exercises &#8594;</button>\n",
    "        </a>\n",
    "    </div>\n",
    "</div>\n",
    "<hr>"
   ]
  }
 ],
 "metadata": {
  "kernelspec": {
   "display_name": "Python 3",
   "language": "python",
   "name": "python3"
  },
  "language_info": {
   "codemirror_mode": {
    "name": "ipython",
    "version": 3
   },
   "file_extension": ".py",
   "mimetype": "text/x-python",
   "name": "python",
   "nbconvert_exporter": "python",
   "pygments_lexer": "ipython3",
   "version": "3.8.5"
  }
 },
 "nbformat": 4,
 "nbformat_minor": 4
}
